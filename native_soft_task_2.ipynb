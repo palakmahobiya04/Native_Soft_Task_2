{
 "cells": [
  {
   "cell_type": "code",
   "execution_count": 1,
   "id": "88c32145-3074-467d-a3a1-18e9433c06eb",
   "metadata": {},
   "outputs": [
    {
     "name": "stdout",
     "output_type": "stream",
     "text": [
      "\n",
      "===== To-Do list Application =====\n",
      "1. Add task\n",
      "2. Delete task\n",
      "3. view tasks\n",
      "4.  Quit\n"
     ]
    },
    {
     "name": "stdin",
     "output_type": "stream",
     "text": [
      "Enter your choice: 4\n"
     ]
    },
    {
     "name": "stdout",
     "output_type": "stream",
     "text": [
      "Thank you for using the To-Do List Application.\n"
     ]
    }
   ],
   "source": [
    "\"\"\"\n",
    "Building a simple Command-Line Interface(CLI) tool using Python that can perform useful tasks.\n",
    "\"\"\"\n",
    "\n",
    "\"\"\"\n",
    "To-Do app (Example = 1)\n",
    "\n",
    "This module implements a command-line to-do list application\n",
    "for efficient task organization.\n",
    "\n",
    "Usage:\n",
    "- Run the script to start the To-Do app.\n",
    "- Follow the on-screen instructions to manage your to-do lists and tasks.\n",
    "\n",
    "Actions:\n",
    "     add    - Add a new task to the ToDo list\n",
    "     delete - Delete a task from the ToDo list\n",
    "     view   - View all tasks in the ToDo list\n",
    "\"\"\"\n",
    "\n",
    "tasks = []\n",
    "\n",
    "def add_task():                        # Add a new task to the ToDo list\n",
    "    task = input(\"Enter a new task:\") \n",
    "    tasks.append(task)\n",
    "    print(\"Task added successfully.\")\n",
    "\n",
    "def view_tasks():                      # View a task from to do list.\n",
    "    if len(tasks) == 0:\n",
    "        print (\"no tasks.\")\n",
    "    else:\n",
    "        print('List of tasks:')\n",
    "        for i, task in enumerate(tasks):\n",
    "            print(f'{i+1}.{task}')\n",
    "\n",
    "def delete_task():                     # Delete a task from to do list.\n",
    "    if len(tasks) == 0:\n",
    "        print('no tasks to delete.')\n",
    "    else:\n",
    "        print('Tasks:')\n",
    "        for i,task in enumerate(tasks):\n",
    "            print(f'{i+1}.{task}')\n",
    "        choice = int(input('Enter the task number to delete:'))\n",
    "\n",
    "        if 0 < choice <= len(tasks):\n",
    "            del tasks[choice-1]\n",
    "            print('Task deleted successfully.')\n",
    "        else:\n",
    "            print('Invalid task number.')\n",
    "            \n",
    "def main():                          # Run the command line to-do list application.\n",
    "    while True:\n",
    "        print('\\n===== To-Do list Application =====')\n",
    "        print('1. Add task')\n",
    "        print('2. Delete task')\n",
    "        print('3. view tasks')\n",
    "        print('4.  Quit')\n",
    "\n",
    "        choice = int(input(\"Enter your choice:\"))\n",
    "        if choice == 1:\n",
    "            add_task()\n",
    "        elif choice == 2:\n",
    "            delete_task()\n",
    "        elif choice == 3:\n",
    "            view_tasks()\n",
    "        elif choice == 4:\n",
    "            print(\"Thank you for using the To-Do List Application.\")\n",
    "            break\n",
    "        else:\n",
    "            print('Invalid choice.Please try again.')\n",
    "\n",
    "if __name__ == \"__main__\":\n",
    "    main()\n",
    "\n",
    "\n"
   ]
  },
  {
   "cell_type": "code",
   "execution_count": 2,
   "id": "d3b9a96d-2da5-4469-9919-e327e1bf2e07",
   "metadata": {},
   "outputs": [
    {
     "name": "stdout",
     "output_type": "stream",
     "text": [
      "\n",
      "-----welcome to the CLI tool-----\n",
      "1. calculator   - Perform basic arithmetic operations.\n",
      "2. datetime     - Show the current date and time.\n",
      "3. exit         - Exit the CLI tool.\n"
     ]
    },
    {
     "name": "stdin",
     "output_type": "stream",
     "text": [
      "Enter a command: 3\n"
     ]
    },
    {
     "name": "stdout",
     "output_type": "stream",
     "text": [
      "Thank you for using CLI tool.\n"
     ]
    }
   ],
   "source": [
    "\"\"\"\n",
    "Simple calculator (example = 2)\n",
    "Building a Simple Calculator to perform basic operations = ( + , - , * , /)\n",
    "\n",
    "\"\"\"\n",
    "\n",
    "import sys\n",
    "from datetime import datetime\n",
    "\n",
    "def calculator():\n",
    "    print(\"\\nCalculator\")\n",
    "    print(\"Enter two numbers:\")\n",
    "    \n",
    "    num1 = int(input(\"Enter the first number:\"))\n",
    "    num2 = int(input(\"Enter the second number:\"))\n",
    "    operation = input(\"Enter the operation you wish to perform (+,-,*,/)\")\n",
    "    if operation =='+':\n",
    "       print (\"Result =\", num1 + num2)\n",
    "    elif operation =='-':\n",
    "       print ( \"Result =\", num1 - num2)\n",
    "    elif operation =='*':\n",
    "       print (\"Result =\", num1 * num2)\n",
    "    elif operation =='/':\n",
    "       if num2 != 0:\n",
    "                print(\"Result:\", num1 / num2)\n",
    "       else:\n",
    "            print(\"Error: Division by zero!\")\n",
    "    else:\n",
    "        print(\"invalid operator entered\")\n",
    "\n",
    "\n",
    "# DATE AND TIME\n",
    "def show_date_time():\n",
    "    print(\"\\nCurrent Date and Time\")\n",
    "    now = datetime.now()\n",
    "    print(f\"{now.strftime('%Y-%m-%d %H:%M:%S')}\")\n",
    "\n",
    "def main():\n",
    "    while True:\n",
    "        print(\"\\n-----welcome to the CLI tool-----\")\n",
    "        print(\"1. calculator   - Perform basic arithmetic operations.\")\n",
    "        print(\"2. datetime     - Show the current date and time.\")\n",
    "        print(\"3. exit         - Exit the CLI tool.\")\n",
    "        \n",
    "        command = int(input(\"Enter a command:\"))\n",
    "        if command == 1:\n",
    "            calculator()\n",
    "        elif command == 2:\n",
    "            show_date_time()\n",
    "        elif command == 3:\n",
    "            print(\"Thank you for using CLI tool.\")\n",
    "            break\n",
    "        else:\n",
    "            print(\"Invalid command. Please try again.\")\n",
    "\n",
    "if __name__ == \"__main__\":\n",
    "        main()\n",
    "    \n",
    "    "
   ]
  },
  {
   "cell_type": "code",
   "execution_count": null,
   "id": "0b2e3b60-d42e-4696-8689-d2a21efdc2a4",
   "metadata": {},
   "outputs": [],
   "source": []
  }
 ],
 "metadata": {
  "kernelspec": {
   "display_name": "Python 3 (ipykernel)",
   "language": "python",
   "name": "python3"
  },
  "language_info": {
   "codemirror_mode": {
    "name": "ipython",
    "version": 3
   },
   "file_extension": ".py",
   "mimetype": "text/x-python",
   "name": "python",
   "nbconvert_exporter": "python",
   "pygments_lexer": "ipython3",
   "version": "3.12.2"
  }
 },
 "nbformat": 4,
 "nbformat_minor": 5
}
